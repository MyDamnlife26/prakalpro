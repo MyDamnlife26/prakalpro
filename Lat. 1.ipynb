{
 "metadata": {
  "language_info": {
   "codemirror_mode": {
    "name": "ipython",
    "version": 3
   },
   "file_extension": ".py",
   "mimetype": "text/x-python",
   "name": "python",
   "nbconvert_exporter": "python",
   "pygments_lexer": "ipython3",
   "version": "3.9.0-final"
  },
  "orig_nbformat": 2,
  "kernelspec": {
   "name": "python3",
   "display_name": "Python 3.9.0 64-bit",
   "metadata": {
    "interpreter": {
     "hash": "23300995598eec4bcf6bd89cf02d1c3675e8b2616661418dbbf5580aa901878d"
    }
   }
  }
 },
 "nbformat": 4,
 "nbformat_minor": 2,
 "cells": [
  {
   "source": [
    "h1 = 650000\n",
    "h2 = 685000\n",
    "h3 = 715000\n",
    "b1 = 25\n",
    "b2 = 15\n",
    "t1 = (h1 * b1) + (h2 * b2)\n",
    "t2 = (b1 + b2) * (h3)\n",
    "profit = t2 - t1\n",
    "print(profit)\n",
    "\n",
    "persen_prof = (profit / t1) * 100\n",
    "print(f\"{persen_prof}%\")"
   ],
   "cell_type": "code",
   "metadata": {},
   "execution_count": 4,
   "outputs": [
    {
     "output_type": "stream",
     "name": "stdout",
     "text": [
      "2075000\n7.822808671065033%\n"
     ]
    }
   ]
  },
  {
   "cell_type": "code",
   "execution_count": 7,
   "metadata": {},
   "outputs": [
    {
     "output_type": "stream",
     "name": "stdout",
     "text": [
      "Tahun ke - 0 = Rp220000000.0\nTahun ke - 1 = Rp242000000.0\nTahun ke - 2 = Rp266200000.0\nTahun ke - 3 = Rp292820000.0\nTahun ke - 4 = Rp322102000.0\nTahun ke - 5 = Rp354312200.0\nTahun ke - 6 = Rp389743420.0\nTahun ke - 7 = Rp428717762.0\n"
     ]
    }
   ],
   "source": [
    "d1 = 200000000\n",
    "d2 = 400000000\n",
    "r = 10/12\n",
    "bunga = 0.1\n",
    "n = 1\n",
    "bulan = 0\n",
    "tahun = 0\n",
    "# while d1 < 400000000:\n",
    "#     d1 = d1 + (d1 * r/100)\n",
    "#     print(\"bulan ke\", bulan, \" \", d1)\n",
    "#     bulan = bulan+1\n",
    "# print((bulan-1)/12)\n",
    "while d1 < d2:\n",
    "    end = (d1 * bunga) + d1\n",
    "    print(f\"Tahun ke - {tahun} = Rp{end}\")\n",
    "    d1 = end\n",
    "    tahun = tahun + 1"
   ]
  },
  {
   "cell_type": "code",
   "execution_count": null,
   "metadata": {},
   "outputs": [],
   "source": []
  }
 ]
}